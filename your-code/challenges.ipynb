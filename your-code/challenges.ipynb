{
  "cells": [
    {
      "cell_type": "markdown",
      "metadata": {
        "id": "rQjYPz1y4Nat"
      },
      "source": [
        "## Challenge 1: Tuples\n",
        "\n",
        "#### Do you know you can create tuples with only one element?\n",
        "\n",
        "**In the cell below, define a variable `tup` with a single element `\"I\"`.**\n"
      ]
    },
    {
      "cell_type": "code",
      "execution_count": 1,
      "metadata": {
        "id": "x5z0Oa4u4Nau"
      },
      "outputs": [],
      "source": [
        "tup = ('I',)"
      ]
    },
    {
      "cell_type": "markdown",
      "metadata": {
        "id": "1hwOYGcT4Nav"
      },
      "source": [
        "#### Print the type of `tup`.\n",
        "\n",
        "Make sure its type is correct (i.e. *tuple* instead of *str*)."
      ]
    },
    {
      "cell_type": "code",
      "execution_count": 2,
      "metadata": {
        "id": "bCJXMIza4Nav",
        "outputId": "b0349198-4ff9-4e3f-edbe-f954f27768f5",
        "colab": {
          "base_uri": "https://localhost:8080/"
        }
      },
      "outputs": [
        {
          "output_type": "stream",
          "name": "stdout",
          "text": [
            "<class 'tuple'>\n"
          ]
        }
      ],
      "source": [
        "print(type(tup))"
      ]
    },
    {
      "cell_type": "markdown",
      "metadata": {
        "id": "pTyXaVd94Naw"
      },
      "source": [
        "#### Now try to append the following elements to `tup`.\n",
        "\n",
        "Are you able to do it? Explain.\n",
        "\n",
        "```\n",
        "\"r\", \"o\", \"n\", \"h\", \"a\", \"c\", \"k',\n",
        "```"
      ]
    },
    {
      "cell_type": "code",
      "execution_count": 3,
      "metadata": {
        "scrolled": true,
        "id": "mpd8N2fY4Naw"
      },
      "outputs": [],
      "source": [
        "# Tuples are Immutable: Once a tuple is created, its contents cannot be changed."
      ]
    },
    {
      "cell_type": "markdown",
      "metadata": {
        "id": "cxbqYFeM4Nax"
      },
      "source": [
        "#### How about re-assign a new value to an existing tuple?\n",
        "\n",
        "Re-assign the following elements to `tup`. Are you able to do it? Explain.\n",
        "\n",
        "```\n",
        "\"I\", \"r\", \"o\", \"n\", \"h\", \"a\", \"c\", \"k\"\n",
        "```"
      ]
    },
    {
      "cell_type": "code",
      "execution_count": 4,
      "metadata": {
        "id": "hJKeFoBW4Nax",
        "outputId": "4e6a4304-9e61-422b-f81a-8c1160e099a4",
        "colab": {
          "base_uri": "https://localhost:8080/"
        }
      },
      "outputs": [
        {
          "output_type": "stream",
          "name": "stdout",
          "text": [
            "type\n",
            "<class 'tuple'>\n"
          ]
        }
      ],
      "source": [
        "tup = (\"I\", \"r\", \"o\", \"n\", \"h\", \"a\", \"c\", \"k\")\n",
        "tup\n",
        "\n",
        "# We can reassign 'tup' to a new tuple, as above. This is different to mutability.\n",
        "# Tuples are immutable so their contents can't be changed in place (i.e. no .append() method).\n",
        "# However, reassigning is valid because it points the variable ('tup') to a new object.\n",
        "\n",
        "print('type')\n",
        "print(type(tup))"
      ]
    },
    {
      "cell_type": "markdown",
      "metadata": {
        "id": "wDts3iwZ4Nay"
      },
      "source": [
        "#### Split `tup` into `tup1` and `tup2` with 4 elements in each.\n",
        "\n",
        "`tup1` should be `(\"I\", \"r\", \"o\", \"n\")` and `tup2` should be `(\"h\", \"a\", \"c\", \"k\")`.\n",
        "\n",
        "*Hint: use positive index numbers for `tup1` assignment and use negative index numbers for `tup2` assignment. Positive index numbers count from the beginning whereas negative index numbers count from the end of the sequence.*\n",
        "\n",
        "Also print `tup1` and `tup2`."
      ]
    },
    {
      "cell_type": "code",
      "execution_count": 5,
      "metadata": {
        "id": "r4X5Gp554Nay",
        "outputId": "ab57be00-0413-4fa5-8052-2aee2705a51a",
        "colab": {
          "base_uri": "https://localhost:8080/"
        }
      },
      "outputs": [
        {
          "output_type": "stream",
          "name": "stdout",
          "text": [
            "('I', 'r', 'o', 'n')\n",
            "('h', 'a', 'c', 'k')\n"
          ]
        }
      ],
      "source": [
        "tup1 = tup[0:4]\n",
        "tup2 = tup[-4:]\n",
        "print(tup1)\n",
        "print(tup2)"
      ]
    },
    {
      "cell_type": "markdown",
      "metadata": {
        "id": "rvYUOGmB4Nay"
      },
      "source": [
        "#### Add `tup1` and `tup2` into `tup3` using the `+` operator.\n",
        "\n",
        "Then print `tup3` and check if `tup3` equals to `tup`."
      ]
    },
    {
      "cell_type": "code",
      "execution_count": 6,
      "metadata": {
        "id": "Uk_mGZmw4Nay",
        "outputId": "1d7a1fc2-718b-4347-9eea-e20c79540f8b",
        "colab": {
          "base_uri": "https://localhost:8080/"
        }
      },
      "outputs": [
        {
          "output_type": "stream",
          "name": "stdout",
          "text": [
            "('I', 'r', 'o', 'n', 'h', 'a', 'c', 'k')\n"
          ]
        }
      ],
      "source": [
        "tup3 = tup1 + tup2\n",
        "print(tup3)"
      ]
    },
    {
      "cell_type": "markdown",
      "metadata": {
        "id": "EbFQGoxE4Naz"
      },
      "source": [
        "#### Count the number of elements in `tup1` and `tup2`. Then add the two counts together and check if the sum is the same as the number of elements in `tup3`."
      ]
    },
    {
      "cell_type": "code",
      "execution_count": 7,
      "metadata": {
        "id": "O1ld6Puk4Naz",
        "outputId": "0d391ff7-9166-4b9f-ce44-5a56f770952a",
        "colab": {
          "base_uri": "https://localhost:8080/"
        }
      },
      "outputs": [
        {
          "output_type": "stream",
          "name": "stdout",
          "text": [
            "8\n",
            "8\n"
          ]
        }
      ],
      "source": [
        "print(len(tup1 + tup2))\n",
        "print(len(tup3))"
      ]
    },
    {
      "cell_type": "markdown",
      "metadata": {
        "id": "WvjAAPwg4Naz"
      },
      "source": [
        "#### What is the index number of `\"h\"` in `tup3`?"
      ]
    },
    {
      "cell_type": "code",
      "execution_count": 8,
      "metadata": {
        "id": "M6jXik8B4Naz",
        "outputId": "1d3f9aa2-0c4a-44a4-ab6d-c0826583d93c",
        "colab": {
          "base_uri": "https://localhost:8080/"
        }
      },
      "outputs": [
        {
          "output_type": "stream",
          "name": "stdout",
          "text": [
            "4\n"
          ]
        }
      ],
      "source": [
        "index_of_h = tup3.index('h')\n",
        "print(index_of_h)"
      ]
    },
    {
      "cell_type": "markdown",
      "metadata": {
        "id": "5w8LArE24Na0"
      },
      "source": [
        "#### Now, use a FOR loop to check whether each letter in the following list is present in `tup3`:\n",
        "\n",
        "```\n",
        "letters = [\"a\", \"b\", \"c\", \"d\", \"e\"]\n",
        "```\n",
        "\n",
        "For each letter you check, print `True` if it is present in `tup3` otherwise print `False`.\n",
        "\n",
        "*Hint: you only need to loop `letters`. You don't need to loop `tup3` because there is a Python operator `in` you can use. See [reference](https://stackoverflow.com/questions/17920147/how-to-check-if-a-tuple-contains-an-element-in-python).*"
      ]
    },
    {
      "cell_type": "code",
      "execution_count": 9,
      "metadata": {
        "id": "5TveB3CB4Na0",
        "outputId": "ea561ae8-ba13-45aa-cb40-95e671dce016",
        "colab": {
          "base_uri": "https://localhost:8080/"
        }
      },
      "outputs": [
        {
          "output_type": "stream",
          "name": "stdout",
          "text": [
            "a - TRUE\n",
            "b - FALSE\n",
            "c - TRUE\n",
            "d - FALSE\n",
            "e - FALSE\n"
          ]
        }
      ],
      "source": [
        "letters = [\"a\", \"b\", \"c\", \"d\", \"e\"]\n",
        "\n",
        "for letter in letters:\n",
        "    if letter in tup3:\n",
        "       print(letter + ' - ' + 'TRUE')\n",
        "    else:\n",
        "        print (letter + ' - ' + 'FALSE')"
      ]
    },
    {
      "cell_type": "markdown",
      "metadata": {
        "id": "Kj2mG1PI4Na0"
      },
      "source": [
        "#### How many times does each letter in `letters` appear in `tup3`?\n",
        "\n",
        "Print out the number of occurrence of each letter."
      ]
    },
    {
      "cell_type": "code",
      "execution_count": 10,
      "metadata": {
        "id": "m_JmXpRu4Na0",
        "outputId": "53bebba3-0b7e-449d-9eea-ab5a0c7ad79b",
        "colab": {
          "base_uri": "https://localhost:8080/"
        }
      },
      "outputs": [
        {
          "output_type": "stream",
          "name": "stdout",
          "text": [
            "a: 1\n",
            "b: 0\n",
            "c: 1\n",
            "d: 0\n",
            "e: 0\n"
          ]
        }
      ],
      "source": [
        "for letter in letters:\n",
        "    count = tup3.count(letter)\n",
        "    print(f\"{letter}: {count}\")"
      ]
    },
    {
      "cell_type": "markdown",
      "metadata": {
        "id": "1Eptnoas4Na1"
      },
      "source": [
        "## Challenge 2: Sets\n",
        "\n",
        "There are a lot to learn about Python Sets and the information presented in the lesson is limited due to its length. To learn Python Sets in depth you are strongly encouraged to review the W3Schools tutorial on [Python Sets Examples and Methods](https://www.w3schools.com/python/python_sets.asp) before you work on this lab. Some difficult questions in this lab have their solutions in the W3Schools tutorial.\n",
        "\n",
        "#### First, import the Python `random` library."
      ]
    },
    {
      "cell_type": "code",
      "execution_count": 11,
      "metadata": {
        "id": "_QbQm4RP4Na1"
      },
      "outputs": [],
      "source": [
        "import random"
      ]
    },
    {
      "cell_type": "markdown",
      "metadata": {
        "id": "m8k73fA54Na1"
      },
      "source": [
        "#### In the cell below, create a list named `sample_list_1` with 80 random values.\n",
        "\n",
        "Requirements:\n",
        "\n",
        "* Each value is an integer falling between 0 and 100.\n",
        "* Each value in the list is unique.\n",
        "\n",
        "Print `sample_list_1` to review its values\n",
        "\n",
        "*Hint: use `random.sample` ([reference](https://docs.python.org/3/library/random.html#random.sample)).*"
      ]
    },
    {
      "cell_type": "code",
      "execution_count": 12,
      "metadata": {
        "id": "YE7IXqYg4Na2",
        "outputId": "2271e241-539b-48a6-e859-f59a6ee8dd6f",
        "colab": {
          "base_uri": "https://localhost:8080/"
        }
      },
      "outputs": [
        {
          "output_type": "stream",
          "name": "stdout",
          "text": [
            "[74, 30, 76, 42, 80, 6, 58, 87, 0, 49, 96, 11, 53, 52, 67, 29, 57, 82, 81, 56, 72, 60, 18, 51, 95, 13, 33, 55, 14, 73, 23, 99, 25, 50, 36, 7, 98, 32, 26, 86, 69, 100, 71, 45, 48, 15, 70, 94, 90, 10, 47, 84, 31, 27, 83, 17, 41, 62, 89, 28, 16, 46, 64, 4, 92, 97, 68, 1, 85, 59, 61, 66, 88, 8, 22, 93, 20, 3, 54, 19]\n"
          ]
        }
      ],
      "source": [
        "sample_list_1 = random.sample(range(101), 80)\n",
        "print(sample_list_1)\n",
        "\n",
        "# random.sample generates unique elements"
      ]
    },
    {
      "cell_type": "markdown",
      "metadata": {
        "id": "gxl_HSi24Na2"
      },
      "source": [
        "#### Convert `sample_list_1` to a set called `set1`. Print the length of the set. Is its length still 80?"
      ]
    },
    {
      "cell_type": "code",
      "execution_count": 13,
      "metadata": {
        "id": "jnJJqMVj4Na2",
        "outputId": "7f816a3f-f484-48f3-f768-4ee4e6fcd9c3",
        "colab": {
          "base_uri": "https://localhost:8080/"
        }
      },
      "outputs": [
        {
          "output_type": "stream",
          "name": "stdout",
          "text": [
            "80\n"
          ]
        }
      ],
      "source": [
        "set1 = set(sample_list_1)\n",
        "print(len(set1))\n",
        "\n",
        "# A set is a collection of unique, unordered elements. It is mutable. It is not iterable (you cannot access elements by index).\n",
        "# A set automatically removes duplicate elements. Each item in a set is unique, so if you try to add a duplicate element, it will be ignored."
      ]
    },
    {
      "cell_type": "markdown",
      "metadata": {
        "id": "jtGcx3954Na2"
      },
      "source": [
        "#### Create another list named `sample_list_2` with 80 random values.\n",
        "\n",
        "Requirements:\n",
        "\n",
        "* Each value is an integer falling between 0 and 100.\n",
        "* The values in the list don't have to be unique.\n",
        "\n",
        "*Hint: Use a FOR loop.*"
      ]
    },
    {
      "cell_type": "code",
      "execution_count": 14,
      "metadata": {
        "id": "yNyT56zo4Na3",
        "outputId": "163fba47-06af-42e4-b482-c147215f0ef9",
        "colab": {
          "base_uri": "https://localhost:8080/"
        }
      },
      "outputs": [
        {
          "output_type": "stream",
          "name": "stdout",
          "text": [
            "[17, 3, 60, 22, 48, 82, 29, 61, 86, 33, 26, 78, 69, 94, 47, 29, 25, 84, 99, 24, 17, 93, 100, 23, 46, 67, 40, 87, 23, 62, 5, 62, 5, 81, 43, 80, 6, 7, 10, 66, 33, 79, 2, 20, 83, 21, 80, 46, 47, 69, 87, 24, 85, 25, 82, 77, 50, 22, 52, 49, 77, 5, 82, 28, 83, 20, 2, 40, 83, 25, 71, 75, 26, 11, 0, 27, 56, 0, 74, 11]\n"
          ]
        }
      ],
      "source": [
        "sample_list_2 = []\n",
        "\n",
        "# Use a for loop to add 80 random integers between 0 and 100 to the list\n",
        "for _ in range(80):\n",
        "     # Append a random integer between 0 and 100 (inclusive) to the list\n",
        "    sample_list_2.append(random.randint(0, 100))\n",
        "\n",
        "print(sample_list_2)\n",
        "\n",
        "# random.randint does not guarantee unique element"
      ]
    },
    {
      "cell_type": "markdown",
      "metadata": {
        "id": "AMm7ayZZ4Na3"
      },
      "source": [
        "#### Convert `sample_list_2` to a set called `set2`. Print the length of the set. Is its length still 80?"
      ]
    },
    {
      "cell_type": "code",
      "execution_count": 15,
      "metadata": {
        "id": "YvPdoMxd4Na3",
        "outputId": "25b56103-85b3-49a9-e98e-63523d0c9131",
        "colab": {
          "base_uri": "https://localhost:8080/"
        }
      },
      "outputs": [
        {
          "output_type": "stream",
          "name": "stdout",
          "text": [
            "53\n"
          ]
        }
      ],
      "source": [
        "set2 = set(sample_list_2)\n",
        "print(len(set2))\n",
        "\n",
        "# The set has automatically removed duplicate elements"
      ]
    },
    {
      "cell_type": "markdown",
      "metadata": {
        "id": "1pvLP_vD4Na3"
      },
      "source": [
        "#### Identify the elements present in `set1` but not in `set2`. Assign the elements to a new set named `set3`."
      ]
    },
    {
      "cell_type": "code",
      "execution_count": 16,
      "metadata": {
        "id": "4ASA2nfK4Na3",
        "outputId": "dedc4dc3-4710-4b22-8641-5d425a586695",
        "colab": {
          "base_uri": "https://localhost:8080/"
        }
      },
      "outputs": [
        {
          "output_type": "stream",
          "name": "stdout",
          "text": [
            "{1, 4, 8, 13, 14, 15, 16, 18, 19, 30, 31, 32, 36, 41, 42, 45, 51, 53, 54, 55, 57, 58, 59, 64, 68, 70, 72, 73, 76, 88, 89, 90, 92, 95, 96, 97, 98}\n"
          ]
        }
      ],
      "source": [
        "# set3 = set(): Initializes set3 as an empty set.\n",
        "\n",
        "set3 = set()\n",
        "\n",
        "# set3.add(x): Adds the element x to set3 if it is not found in set2.\n",
        "\n",
        "for x in set1:\n",
        "    if x not in set2:\n",
        "        set3.add(x)\n",
        "print(set3)\n",
        ""
      ]
    },
    {
      "cell_type": "markdown",
      "metadata": {
        "id": "kcyXKsUh4Na4"
      },
      "source": [
        "#### Identify the elements present in `set2` but not in `set1`. Assign the elements to a new set named `set4`."
      ]
    },
    {
      "cell_type": "code",
      "execution_count": 17,
      "metadata": {
        "id": "FqpbmSe34Na4",
        "outputId": "7922a031-fe38-47f9-acc1-12a038d594ac",
        "colab": {
          "base_uri": "https://localhost:8080/"
        }
      },
      "outputs": [
        {
          "output_type": "stream",
          "name": "stdout",
          "text": [
            "{2, 5, 40, 43, 75, 77, 78, 79, 21, 24}\n"
          ]
        }
      ],
      "source": [
        "set4 = set()\n",
        "\n",
        "for x in set2:\n",
        "    if x not in set1:\n",
        "        set4.add(x)\n",
        "print(set4)"
      ]
    },
    {
      "cell_type": "markdown",
      "metadata": {
        "id": "5b5iM8Rn4Na4"
      },
      "source": [
        "#### Now Identify the elements shared between `set1` and `set2`. Assign the elements to a new set named `set5`."
      ]
    },
    {
      "cell_type": "code",
      "execution_count": 18,
      "metadata": {
        "id": "Hz-3-33H4Na4",
        "outputId": "c862dd91-0840-419e-83b7-b0ce2065e6ff",
        "colab": {
          "base_uri": "https://localhost:8080/"
        }
      },
      "outputs": [
        {
          "output_type": "stream",
          "name": "stdout",
          "text": [
            "{0, 3, 6, 7, 10, 11, 17, 20, 22, 23, 25, 26, 27, 28, 29, 33, 46, 47, 48, 49, 50, 52, 56, 60, 61, 62, 66, 67, 69, 71, 74, 80, 81, 82, 83, 84, 85, 86, 87, 93, 94, 99, 100}\n"
          ]
        }
      ],
      "source": [
        "set5 = set()\n",
        "\n",
        "for x in set1:\n",
        "    if x in set2:\n",
        "        set5.add(x)\n",
        "print(set5)"
      ]
    },
    {
      "cell_type": "markdown",
      "metadata": {
        "id": "rGFq_hmM4Na4"
      },
      "source": [
        "#### What is the relationship among the following values:\n",
        "\n",
        "* len(set1)\n",
        "* len(set2)\n",
        "* len(set3)\n",
        "* len(set4)\n",
        "* len(set5)\n",
        "\n",
        "Use a math formular to represent that relationship. Test your formular with Python code."
      ]
    },
    {
      "cell_type": "code",
      "execution_count": 19,
      "metadata": {
        "id": "k_Yc8pC04Na4"
      },
      "outputs": [],
      "source": [
        "# Your code here"
      ]
    },
    {
      "cell_type": "markdown",
      "metadata": {
        "id": "Ccd-rdJh4Na5"
      },
      "source": [
        "#### Create an empty set called `set6`."
      ]
    },
    {
      "cell_type": "code",
      "execution_count": 20,
      "metadata": {
        "id": "LLMwzDeL4Na5"
      },
      "outputs": [],
      "source": [
        "set6 = set()"
      ]
    },
    {
      "cell_type": "markdown",
      "metadata": {
        "id": "wtvjzaZF4Na5"
      },
      "source": [
        "#### Add `set3` and `set5` to `set6` using the Python Set `update` method."
      ]
    },
    {
      "cell_type": "code",
      "execution_count": 21,
      "metadata": {
        "id": "uV1wH4SM4Na5",
        "outputId": "fbfd4a09-8fc0-4647-ac78-4c1e9cd1c006",
        "colab": {
          "base_uri": "https://localhost:8080/"
        }
      },
      "outputs": [
        {
          "output_type": "stream",
          "name": "stdout",
          "text": [
            "{0, 1, 3, 4, 6, 7, 8, 10, 11, 13, 14, 15, 16, 17, 18, 19, 20, 22, 23, 25, 26, 27, 28, 29, 30, 31, 32, 33, 36, 41, 42, 45, 46, 47, 48, 49, 50, 51, 52, 53, 54, 55, 56, 57, 58, 59, 60, 61, 62, 64, 66, 67, 68, 69, 70, 71, 72, 73, 74, 76, 80, 81, 82, 83, 84, 85, 86, 87, 88, 89, 90, 92, 93, 94, 95, 96, 97, 98, 99, 100}\n"
          ]
        }
      ],
      "source": [
        "# The update() method adds all unique elements from the provided iterables to the original set.\n",
        "\n",
        "set6.update(set3, set5)\n",
        "print(set6)"
      ]
    },
    {
      "cell_type": "markdown",
      "metadata": {
        "id": "-Niqs-1z4Na6"
      },
      "source": [
        "#### Check if `set1` and `set6` are equal."
      ]
    },
    {
      "cell_type": "code",
      "execution_count": 22,
      "metadata": {
        "id": "1Wew9KjF4Na6",
        "outputId": "7ca2966b-940e-465d-fc0f-781811fbd40b",
        "colab": {
          "base_uri": "https://localhost:8080/"
        }
      },
      "outputs": [
        {
          "output_type": "execute_result",
          "data": {
            "text/plain": [
              "True"
            ]
          },
          "metadata": {},
          "execution_count": 22
        }
      ],
      "source": [
        "set1 == set6"
      ]
    },
    {
      "cell_type": "markdown",
      "metadata": {
        "id": "SEyNkY8J4Na6"
      },
      "source": [
        "#### Check if `set1` contains `set2` using the Python Set `issubset` method. Then check if `set1` contains `set3`.*"
      ]
    },
    {
      "cell_type": "code",
      "execution_count": 23,
      "metadata": {
        "id": "XV17bhIg4Na6",
        "outputId": "66806714-298f-4378-b30e-90e19ea75358",
        "colab": {
          "base_uri": "https://localhost:8080/"
        }
      },
      "outputs": [
        {
          "output_type": "stream",
          "name": "stdout",
          "text": [
            "set2 is subset: False\n",
            "set3 is subset: True\n"
          ]
        }
      ],
      "source": [
        "# Check if set1 contains (is a superset of) set2\n",
        "is_set2_subset = set2.issubset(set1)\n",
        "print(f\"set2 is subset: {is_set2_subset}\")\n",
        "\n",
        "is_set3_subset = set3.issubset(set1)\n",
        "print(f\"set3 is subset: {is_set3_subset}\")"
      ]
    },
    {
      "cell_type": "markdown",
      "metadata": {
        "id": "aTUwq_DA4Na6"
      },
      "source": [
        "#### Using the Python Set `union` method, aggregate `set3`, `set4`, and `set5`. Then aggregate `set1` and `set2`.\n",
        "\n",
        "#### Check if the aggregated values are equal."
      ]
    },
    {
      "cell_type": "code",
      "execution_count": 24,
      "metadata": {
        "id": "bdBO4Waz4Na7",
        "outputId": "8404133b-33e1-49bc-b011-fa856ff42554",
        "colab": {
          "base_uri": "https://localhost:8080/"
        }
      },
      "outputs": [
        {
          "output_type": "stream",
          "name": "stdout",
          "text": [
            "True\n"
          ]
        }
      ],
      "source": [
        "aggregated_set_1 = set3.union(set4, set5)\n",
        "aggregated_set_2 = set1.union(set2)\n",
        "\n",
        "# Check if the aggregated sets are equal\n",
        "are_equal = aggregated_set_1 == aggregated_set_2\n",
        "print(are_equal)"
      ]
    },
    {
      "cell_type": "markdown",
      "metadata": {
        "id": "OJjjIWfM4Na7"
      },
      "source": [
        "#### Using the `pop` method, remove the first element from `set1`."
      ]
    },
    {
      "cell_type": "code",
      "execution_count": 25,
      "metadata": {
        "id": "cSxW5bnF4Na7",
        "outputId": "f59c735d-4ba8-4194-d694-731790b7bfc0",
        "colab": {
          "base_uri": "https://localhost:8080/"
        }
      },
      "outputs": [
        {
          "output_type": "execute_result",
          "data": {
            "text/plain": [
              "0"
            ]
          },
          "metadata": {},
          "execution_count": 25
        }
      ],
      "source": [
        "set1.pop()\n",
        "\n",
        "# The pop() method in Python is used to remove and return an arbitrary element from a set.\n",
        "# Since sets are unordered collections, the element removed by pop() is not guaranteed to be the first or last element added;\n",
        "# it's simply an arbitrary element."
      ]
    },
    {
      "cell_type": "markdown",
      "metadata": {
        "id": "fT0cxuXm4Na7"
      },
      "source": [
        "#### Remove every element in the following list from `set1` if they are present in the set. Print the remaining elements.\n",
        "\n",
        "```\n",
        "list_to_remove = [1, 9, 11, 19, 21, 29, 31, 39, 41, 49, 51, 59, 61, 69, 71, 79, 81, 89, 91, 99]\n",
        "```"
      ]
    },
    {
      "cell_type": "code",
      "execution_count": 26,
      "metadata": {
        "id": "dBt_9UBP4Na7",
        "outputId": "b17704b3-36de-46e0-de8b-be0e05901e2a",
        "colab": {
          "base_uri": "https://localhost:8080/"
        }
      },
      "outputs": [
        {
          "output_type": "stream",
          "name": "stdout",
          "text": [
            "{3, 4, 6, 7, 8, 10, 13, 14, 15, 16, 17, 18, 20, 22, 23, 25, 26, 27, 28, 30, 32, 33, 36, 42, 45, 46, 47, 48, 50, 52, 53, 54, 55, 56, 57, 58, 60, 62, 64, 66, 67, 68, 70, 72, 73, 74, 76, 80, 82, 83, 84, 85, 86, 87, 88, 90, 92, 93, 94, 95, 96, 97, 98, 100}\n"
          ]
        }
      ],
      "source": [
        "list_to_remove = [1, 9, 11, 19, 21, 29, 31, 39, 41, 49, 51, 59, 61, 69, 71, 79, 81, 89, 91, 99]\n",
        "\n",
        "set_to_remove = set(list_to_remove)\n",
        "\n",
        "set1 = set1 - set_to_remove\n",
        "print(set1)"
      ]
    },
    {
      "cell_type": "markdown",
      "metadata": {
        "id": "M3g1F9-M4Na8"
      },
      "source": [
        "## BONUS - Challenge 3: Dictionaries\n",
        "\n",
        "In this challenge you will practice how to manipulate Python dictionaries. Before starting on this challenge, you are encouraged to review W3School's [Python Dictionary Examples and Methods](https://www.w3schools.com/python/python_dictionaries.asp).\n",
        "\n",
        "First thing you will practice is how to sort the keys in a dictionary. Unlike the list object, Python dictionary does not have a built-in *sort* method. You'll need to use FOR loops to to sort dictionaries either by key or by value.\n",
        "\n",
        "The dictionary below is a summary of the word frequency of Ed Sheeran's song *Shape of You*. Each key is a word in the lyrics and the value is the number of times that word appears in the lyrics."
      ]
    },
    {
      "cell_type": "code",
      "execution_count": 27,
      "metadata": {
        "id": "pAfLLZeV4Na8"
      },
      "outputs": [],
      "source": [
        "word_freq = {'love': 25, 'conversation': 1, 'every': 6, \"we're\": 1, 'plate': 1, 'sour': 1, 'jukebox': 1, 'now': 11, 'taxi': 1, 'fast': 1, 'bag': 1, 'man': 1, 'push': 3, 'baby': 14, 'going': 1, 'you': 16, \"don't\": 2, 'one': 1, 'mind': 2, 'backseat': 1, 'friends': 1, 'then': 3, 'know': 2, 'take': 1, 'play': 1, 'okay': 1, 'so': 2, 'begin': 1, 'start': 2, 'over': 1, 'body': 17, 'boy': 2, 'just': 1, 'we': 7, 'are': 1, 'girl': 2, 'tell': 1, 'singing': 2, 'drinking': 1, 'put': 3, 'our': 1, 'where': 1, \"i'll\": 1, 'all': 1, \"isn't\": 1, 'make': 1, 'lover': 1, 'get': 1, 'radio': 1, 'give': 1, \"i'm\": 23, 'like': 10, 'can': 1, 'doing': 2, 'with': 22, 'club': 1, 'come': 37, 'it': 1, 'somebody': 2, 'handmade': 2, 'out': 1, 'new': 6, 'room': 3, 'chance': 1, 'follow': 6, 'in': 27, 'may': 2, 'brand': 6, 'that': 2, 'magnet': 3, 'up': 3, 'first': 1, 'and': 23, 'pull': 3, 'of': 6, 'table': 1, 'much': 2, 'last': 3, 'i': 6, 'thrifty': 1, 'grab': 2, 'was': 2, 'driver': 1, 'slow': 1, 'dance': 1, 'the': 18, 'say': 2, 'trust': 1, 'family': 1, 'week': 1, 'date': 1, 'me': 10, 'do': 3, 'waist': 2, 'smell': 3, 'day': 6, 'although': 3, 'your': 21, 'leave': 1, 'want': 2, \"let's\": 2, 'lead': 6, 'at': 1, 'hand': 1, 'how': 1, 'talk': 4, 'not': 2, 'eat': 1, 'falling': 3, 'about': 1, 'story': 1, 'sweet': 1, 'best': 1, 'crazy': 2, 'let': 1, 'too': 5, 'van': 1, 'shots': 1, 'go': 2, 'to': 2, 'a': 8, 'my': 33, 'is': 5, 'place': 1, 'find': 1, 'shape': 6, 'on': 40, 'kiss': 1, 'were': 3, 'night': 3, 'heart': 3, 'for': 3, 'discovering': 6, 'something': 6, 'be': 16, 'bedsheets': 3, 'fill': 2, 'hours': 2, 'stop': 1, 'bar': 1}"
      ]
    },
    {
      "cell_type": "markdown",
      "metadata": {
        "id": "9rpNcm1K4Na8"
      },
      "source": [
        "#### Sort the keys of `word_freq` ascendingly.\n",
        "\n",
        "Please create a new dictionary called `word_freq2` based on `word_freq` with the keys sorted ascedingly.\n",
        "\n",
        "There are several ways to achieve that goal but many of the ways are beyond what we have covered so far in the course. There is one way that we'll describe employing what you have learned. Please feel free to use this way or any other way you want.\n",
        "\n",
        "1. First extract the keys of `word_freq` and convert it to a list called `keys`.\n",
        "\n",
        "1. Sort the `keys` list.\n",
        "\n",
        "1. Create an empty dictionary `word_freq2`.\n",
        "\n",
        "1. Use a FOR loop to iterate each value in `keys`. For each key iterated, find the corresponding value in `word_freq` and insert the key-value pair to `word_freq2`.\n",
        "\n",
        "📖 [Documentation for a for loop](https://docs.python.org/3/reference/compound_stmts.html#for)\n",
        "\n",
        "Print out `word_freq2` to examine its keys and values. Your output should be:\n",
        "\n",
        "```python\n",
        "{'a': 8, 'about': 1, 'all': 1, 'although': 3, 'and': 23, 'are': 1, 'at': 1, 'baby': 14, 'backseat': 1, 'bag': 1, 'bar': 1, 'be': 16, 'bedsheets': 3, 'begin': 1, 'best': 1, 'body': 17, 'boy': 2, 'brand': 6, 'can': 1, 'chance': 1, 'club': 1, 'come': 37, 'conversation': 1, 'crazy': 2, 'dance': 1, 'date': 1, 'day': 6, 'discovering': 6, 'do': 3, 'doing': 2, \"don't\": 2, 'drinking': 1, 'driver': 1, 'eat': 1, 'every': 6, 'falling': 3, 'family': 1, 'fast': 1, 'fill': 2, 'find': 1, 'first': 1, 'follow': 6, 'for': 3, 'friends': 1, 'get': 1, 'girl': 2, 'give': 1, 'go': 2, 'going': 1, 'grab': 2, 'hand': 1, 'handmade': 2, 'heart': 3, 'hours': 2, 'how': 1, 'i': 6, \"i'll\": 1, \"i'm\": 23, 'in': 27, 'is': 5, \"isn't\": 1, 'it': 1, 'jukebox': 1, 'just': 1, 'kiss': 1, 'know': 2, 'last': 3, 'lead': 6, 'leave': 1, 'let': 1, \"let's\": 2, 'like': 10, 'love': 25, 'lover': 1, 'magnet': 3, 'make': 1, 'man': 1, 'may': 2, 'me': 10, 'mind': 2, 'much': 2, 'my': 33, 'new': 6, 'night': 3, 'not': 2, 'now': 11, 'of': 6, 'okay': 1, 'on': 40, 'one': 1, 'our': 1, 'out': 1, 'over': 1, 'place': 1, 'plate': 1, 'play': 1, 'pull': 3, 'push': 3, 'put': 3, 'radio': 1, 'room': 3, 'say': 2, 'shape': 6, 'shots': 1, 'singing': 2, 'slow': 1, 'smell': 3, 'so': 2, 'somebody': 2, 'something': 6, 'sour': 1, 'start': 2, 'stop': 1, 'story': 1, 'sweet': 1, 'table': 1, 'take': 1, 'talk': 4, 'taxi': 1, 'tell': 1, 'that': 2, 'the': 18, 'then': 3, 'thrifty': 1, 'to': 2, 'too': 5, 'trust': 1, 'up': 3, 'van': 1, 'waist': 2, 'want': 2, 'was': 2, 'we': 7, \"we're\": 1, 'week': 1, 'were': 3, 'where': 1, 'with': 22, 'you': 16, 'your': 21}\n",
        "```"
      ]
    },
    {
      "cell_type": "code",
      "execution_count": 34,
      "metadata": {
        "id": "QnuGFuTT4Na9",
        "outputId": "f9d35086-14a1-45a4-8f67-555993ba366b",
        "colab": {
          "base_uri": "https://localhost:8080/"
        }
      },
      "outputs": [
        {
          "output_type": "stream",
          "name": "stdout",
          "text": [
            "{'a': 8, 'about': 1, 'all': 1, 'although': 3, 'and': 23, 'are': 1, 'at': 1, 'baby': 14, 'backseat': 1, 'bag': 1, 'bar': 1, 'be': 16, 'bedsheets': 3, 'begin': 1, 'best': 1, 'body': 17, 'boy': 2, 'brand': 6, 'can': 1, 'chance': 1, 'club': 1, 'come': 37, 'conversation': 1, 'crazy': 2, 'dance': 1, 'date': 1, 'day': 6, 'discovering': 6, 'do': 3, 'doing': 2, \"don't\": 2, 'drinking': 1, 'driver': 1, 'eat': 1, 'every': 6, 'falling': 3, 'family': 1, 'fast': 1, 'fill': 2, 'find': 1, 'first': 1, 'follow': 6, 'for': 3, 'friends': 1, 'get': 1, 'girl': 2, 'give': 1, 'go': 2, 'going': 1, 'grab': 2, 'hand': 1, 'handmade': 2, 'heart': 3, 'hours': 2, 'how': 1, 'i': 6, \"i'll\": 1, \"i'm\": 23, 'in': 27, 'is': 5, \"isn't\": 1, 'it': 1, 'jukebox': 1, 'just': 1, 'kiss': 1, 'know': 2, 'last': 3, 'lead': 6, 'leave': 1, 'let': 1, \"let's\": 2, 'like': 10, 'love': 25, 'lover': 1, 'magnet': 3, 'make': 1, 'man': 1, 'may': 2, 'me': 10, 'mind': 2, 'much': 2, 'my': 33, 'new': 6, 'night': 3, 'not': 2, 'now': 11, 'of': 6, 'okay': 1, 'on': 40, 'one': 1, 'our': 1, 'out': 1, 'over': 1, 'place': 1, 'plate': 1, 'play': 1, 'pull': 3, 'push': 3, 'put': 3, 'radio': 1, 'room': 3, 'say': 2, 'shape': 6, 'shots': 1, 'singing': 2, 'slow': 1, 'smell': 3, 'so': 2, 'somebody': 2, 'something': 6, 'sour': 1, 'start': 2, 'stop': 1, 'story': 1, 'sweet': 1, 'table': 1, 'take': 1, 'talk': 4, 'taxi': 1, 'tell': 1, 'that': 2, 'the': 18, 'then': 3, 'thrifty': 1, 'to': 2, 'too': 5, 'trust': 1, 'up': 3, 'van': 1, 'waist': 2, 'want': 2, 'was': 2, 'we': 7, \"we're\": 1, 'week': 1, 'were': 3, 'where': 1, 'with': 22, 'you': 16, 'your': 21}\n"
          ]
        }
      ],
      "source": [
        "keys = list(word_freq.keys())\n",
        "keys.sort()\n",
        "\n",
        "word_freq2 = {}\n",
        "\n",
        "for key in keys:\n",
        "  word_freq2[key] = word_freq[key]\n",
        "\n",
        "print(word_freq2)"
      ]
    },
    {
      "cell_type": "markdown",
      "metadata": {
        "id": "9KtuNUGK4Na9"
      },
      "source": [
        "#### Sort the values of `word_freq` ascendingly.\n",
        "\n",
        "Sorting the values of a dictionary is more tricky than sorting the keys because a dictionary's values are not unique. Therefore you cannot use the same way you sorted dict keys to sort dict values.\n",
        "\n",
        "The way to sort a dict by value is to utilize the `sorted` and `operator.itemgetter` functions. The following code snippet is provided to you to try. It will give you a list of tuples in which each tuple contains the key and value of a dict item. And the list is sorted based on the dict value ( [reference](http://thomas-cokelaer.info/blog/2017/12/how-to-sort-a-dictionary-by-values-in-python/)\n",
        ").\n",
        "\n",
        "```python\n",
        "import operator\n",
        "sorted_tups = sorted(word_freq.items(), key=operator.itemgetter(1))\n",
        "print(sorted_tups)\n",
        "```\n",
        "\n",
        "Therefore, the steps to sort `word_freq` by value are:\n",
        "\n",
        "* Using `sorted` and `operator.itemgetter`, obtain a list of tuples of the dict key-value pairs which is sorted on the value.\n",
        "\n",
        "* Create an empty dictionary named `word_freq2`.\n",
        "\n",
        "* Iterate the list of tuples. Insert each key-value pair into `word_freq2` as an object.\n",
        "\n",
        "Print `word_freq2` to confirm your dictionary has its values sorted. Your output should be:\n",
        "\n",
        "```python\n",
        "{'conversation': 1, \"we're\": 1, 'plate': 1, 'sour': 1, 'jukebox': 1, 'taxi': 1, 'fast': 1, 'bag': 1, 'man': 1, 'going': 1, 'one': 1, 'backseat': 1, 'friends': 1, 'take': 1, 'play': 1, 'okay': 1, 'begin': 1, 'over': 1, 'just': 1, 'are': 1, 'tell': 1, 'drinking': 1, 'our': 1, 'where': 1, \"i'll\": 1, 'all': 1, \"isn't\": 1, 'make': 1, 'lover': 1, 'get': 1, 'radio': 1, 'give': 1, 'can': 1, 'club': 1, 'it': 1, 'out': 1, 'chance': 1, 'first': 1, 'table': 1, 'thrifty': 1, 'driver': 1, 'slow': 1, 'dance': 1, 'trust': 1, 'family': 1, 'week': 1, 'date': 1, 'leave': 1, 'at': 1, 'hand': 1, 'how': 1, 'eat': 1, 'about': 1, 'story': 1, 'sweet': 1, 'best': 1, 'let': 1, 'van': 1, 'shots': 1, 'place': 1, 'find': 1, 'kiss': 1, 'stop': 1, 'bar': 1, \"don't\": 2, 'mind': 2, 'know': 2, 'so': 2, 'start': 2, 'boy': 2, 'girl': 2, 'singing': 2, 'doing': 2, 'somebody': 2, 'handmade': 2, 'may': 2, 'that': 2, 'much': 2, 'grab': 2, 'was': 2, 'say': 2, 'waist': 2, 'want': 2, \"let's\": 2, 'not': 2, 'crazy': 2, 'go': 2, 'to': 2, 'fill': 2, 'hours': 2, 'push': 3, 'then': 3, 'put': 3, 'room': 3, 'magnet': 3, 'up': 3, 'pull': 3, 'last': 3, 'do': 3, 'smell': 3, 'although': 3, 'falling': 3, 'were': 3, 'night': 3, 'heart': 3, 'for': 3, 'bedsheets': 3, 'talk': 4, 'too': 5, 'is': 5, 'every': 6, 'new': 6, 'follow': 6, 'brand': 6, 'of': 6, 'i': 6, 'day': 6, 'lead': 6, 'shape': 6, 'discovering': 6, 'something': 6, 'we': 7, 'a': 8, 'like': 10, 'me': 10, 'now': 11, 'baby': 14, 'you': 16, 'be': 16, 'body': 17, 'the': 18, 'your': 21, 'with': 22, \"i'm\": 23, 'and': 23, 'love': 25, 'in': 27, 'my': 33, 'come': 37, 'on': 40}\n",
        "```"
      ]
    },
    {
      "cell_type": "code",
      "execution_count": 35,
      "metadata": {
        "id": "5qZWIo804Na9",
        "outputId": "10c9a8cd-767f-4bfa-96d1-475a5231c94a",
        "colab": {
          "base_uri": "https://localhost:8080/"
        }
      },
      "outputs": [
        {
          "output_type": "stream",
          "name": "stdout",
          "text": [
            "{'conversation': 1, \"we're\": 1, 'plate': 1, 'sour': 1, 'jukebox': 1, 'taxi': 1, 'fast': 1, 'bag': 1, 'man': 1, 'going': 1, 'one': 1, 'backseat': 1, 'friends': 1, 'take': 1, 'play': 1, 'okay': 1, 'begin': 1, 'over': 1, 'just': 1, 'are': 1, 'tell': 1, 'drinking': 1, 'our': 1, 'where': 1, \"i'll\": 1, 'all': 1, \"isn't\": 1, 'make': 1, 'lover': 1, 'get': 1, 'radio': 1, 'give': 1, 'can': 1, 'club': 1, 'it': 1, 'out': 1, 'chance': 1, 'first': 1, 'table': 1, 'thrifty': 1, 'driver': 1, 'slow': 1, 'dance': 1, 'trust': 1, 'family': 1, 'week': 1, 'date': 1, 'leave': 1, 'at': 1, 'hand': 1, 'how': 1, 'eat': 1, 'about': 1, 'story': 1, 'sweet': 1, 'best': 1, 'let': 1, 'van': 1, 'shots': 1, 'place': 1, 'find': 1, 'kiss': 1, 'stop': 1, 'bar': 1, \"don't\": 2, 'mind': 2, 'know': 2, 'so': 2, 'start': 2, 'boy': 2, 'girl': 2, 'singing': 2, 'doing': 2, 'somebody': 2, 'handmade': 2, 'may': 2, 'that': 2, 'much': 2, 'grab': 2, 'was': 2, 'say': 2, 'waist': 2, 'want': 2, \"let's\": 2, 'not': 2, 'crazy': 2, 'go': 2, 'to': 2, 'fill': 2, 'hours': 2, 'push': 3, 'then': 3, 'put': 3, 'room': 3, 'magnet': 3, 'up': 3, 'pull': 3, 'last': 3, 'do': 3, 'smell': 3, 'although': 3, 'falling': 3, 'were': 3, 'night': 3, 'heart': 3, 'for': 3, 'bedsheets': 3, 'talk': 4, 'too': 5, 'is': 5, 'every': 6, 'new': 6, 'follow': 6, 'brand': 6, 'of': 6, 'i': 6, 'day': 6, 'lead': 6, 'shape': 6, 'discovering': 6, 'something': 6, 'we': 7, 'a': 8, 'like': 10, 'me': 10, 'now': 11, 'baby': 14, 'you': 16, 'be': 16, 'body': 17, 'the': 18, 'your': 21, 'with': 22, \"i'm\": 23, 'and': 23, 'love': 25, 'in': 27, 'my': 33, 'come': 37, 'on': 40}\n"
          ]
        }
      ],
      "source": [
        "word_freq2 = {}\n",
        "\n",
        "import operator\n",
        "sorted_tups = sorted(word_freq.items(), key=operator.itemgetter(1))\n",
        "\n",
        "for key, value in sorted_tups:\n",
        "  word_freq2[key] = value\n",
        "\n",
        "print(word_freq2)\n"
      ]
    }
  ],
  "metadata": {
    "kernelspec": {
      "display_name": "Python 3 (ipykernel)",
      "language": "python",
      "name": "python3"
    },
    "language_info": {
      "codemirror_mode": {
        "name": "ipython",
        "version": 3
      },
      "file_extension": ".py",
      "mimetype": "text/x-python",
      "name": "python",
      "nbconvert_exporter": "python",
      "pygments_lexer": "ipython3",
      "version": "3.9.6"
    },
    "vscode": {
      "interpreter": {
        "hash": "aee8b7b246df8f9039afb4144a1f6fd8d2ca17a180786b69acc140d282b71a49"
      }
    },
    "colab": {
      "provenance": []
    }
  },
  "nbformat": 4,
  "nbformat_minor": 0
}